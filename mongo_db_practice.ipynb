{
 "cells": [
  {
   "cell_type": "markdown",
   "metadata": {},
   "source": []
  },
  {
   "cell_type": "code",
   "execution_count": 5,
   "metadata": {},
   "outputs": [],
   "source": [
    "import pymongo"
   ]
  },
  {
   "cell_type": "code",
   "execution_count": 6,
   "metadata": {},
   "outputs": [],
   "source": [
    "dbconn = pymongo.MongoClient(\"mongodb://localhost:27017/\")"
   ]
  },
  {
   "cell_type": "code",
   "execution_count": 7,
   "metadata": {},
   "outputs": [],
   "source": [
    "dbname = 'ineuron'"
   ]
  },
  {
   "cell_type": "code",
   "execution_count": 8,
   "metadata": {},
   "outputs": [],
   "source": [
    "db=dbconn[dbname]"
   ]
  },
  {
   "cell_type": "code",
   "execution_count": 9,
   "metadata": {},
   "outputs": [
    {
     "data": {
      "text/plain": [
       "['admin', 'config', 'ineuron', 'local', 'test']"
      ]
     },
     "execution_count": 9,
     "metadata": {},
     "output_type": "execute_result"
    }
   ],
   "source": [
    "dbconn.list_database_names()"
   ]
  },
  {
   "cell_type": "code",
   "execution_count": 10,
   "metadata": {},
   "outputs": [],
   "source": [
    "collection_name ='mongo_demo'"
   ]
  },
  {
   "cell_type": "code",
   "execution_count": 11,
   "metadata": {},
   "outputs": [],
   "source": [
    "collection=db[collection_name]"
   ]
  },
  {
   "cell_type": "code",
   "execution_count": 12,
   "metadata": {},
   "outputs": [
    {
     "data": {
      "text/plain": [
       "Collection(Database(MongoClient(host=['localhost:27017'], document_class=dict, tz_aware=False, connect=True), 'ineuron'), 'mongo_demo')"
      ]
     },
     "execution_count": 12,
     "metadata": {},
     "output_type": "execute_result"
    }
   ],
   "source": [
    "collection"
   ]
  },
  {
   "cell_type": "code",
   "execution_count": 16,
   "metadata": {},
   "outputs": [],
   "source": [
    "my_row = {'Serial No': '9998',\n",
    "          'GRE Score':'337',\n",
    "          'TOEFL Score': '118',\n",
    "          'University Rating':'4',\n",
    "          'SOP':'4.5',\n",
    "          'LOR':'4.5',\n",
    "          'CGPA':'9.65',\n",
    "          'Research':'1',\n",
    "          'Chance of Admit': '0.92'\n",
    "\n",
    "}"
   ]
  },
  {
   "cell_type": "code",
   "execution_count": 17,
   "metadata": {},
   "outputs": [],
   "source": [
    "col=collection.insert_one(my_row)"
   ]
  },
  {
   "cell_type": "code",
   "execution_count": 13,
   "metadata": {},
   "outputs": [
    {
     "ename": "NameError",
     "evalue": "name 'col' is not defined",
     "output_type": "error",
     "traceback": [
      "\u001b[1;31m---------------------------------------------------------------------------\u001b[0m",
      "\u001b[1;31mNameError\u001b[0m                                 Traceback (most recent call last)",
      "Cell \u001b[1;32mIn[13], line 1\u001b[0m\n\u001b[1;32m----> 1\u001b[0m \u001b[43mcol\u001b[49m\u001b[38;5;241m.\u001b[39minserted_id \u001b[38;5;66;03m# for getting inserted id if\u001b[39;00m\n",
      "\u001b[1;31mNameError\u001b[0m: name 'col' is not defined"
     ]
    }
   ],
   "source": [
    "col.inserted_id # for getting inserted id if"
   ]
  },
  {
   "cell_type": "code",
   "execution_count": 14,
   "metadata": {},
   "outputs": [],
   "source": [
    "res =collection.find()"
   ]
  },
  {
   "cell_type": "code",
   "execution_count": 15,
   "metadata": {},
   "outputs": [
    {
     "name": "stdout",
     "output_type": "stream",
     "text": [
      "{'_id': ObjectId('659a4b1c67e7a42f8697d570'), 'Serial No': '9998', 'GRE Score': '337', 'TOEFL Score': '118', 'University Rating': '4', 'SOP': '4.5', 'LOR': '4.5', 'CGPA': '9.65', 'Research': '1', 'Chance of Admit': '0.92'}\n",
      "{'_id': ObjectId('659a4cc367e7a42f8697d571'), 'Serial No': '9998', 'GRE Score': '337', 'TOEFL Score': '118', 'University Rating': '4', 'SOP': '4.5', 'LOR': '4.5', 'CGPA': '9.65', 'Research': '1', 'Chance of Admit': '0.92'}\n",
      "{'_id': ObjectId('659a687d67e7a42f8697d572'), 'Serial No': '9999', 'GRE Score': '337', 'TOEFL Score': '118', 'University Rating': '4', 'SOP': '4.5', 'LOR': '4.5', 'CGPA': '9.66', 'Research': '1', 'Chance of Admit': '0.92'}\n",
      "{'_id': ObjectId('659a687d67e7a42f8697d573'), 'Serial No': '10000', 'GRE Score': '337', 'TOEFL Score': '118', 'University Rating': '4', 'SOP': '4.5', 'LOR': '4.5', 'CGPA': '9.67', 'Research': '1', 'Chance of Admit': '0.92'}\n",
      "{'_id': ObjectId('659a68ca67e7a42f8697d574'), 'Serial No': '9999', 'GRE Score': '337', 'TOEFL Score': '118', 'University Rating': '4', 'SOP': '4.5', 'LOR': '4.5', 'CGPA': '9.66', 'Research': '1', 'Chance of Admit': '0.92'}\n",
      "{'_id': ObjectId('659a68ca67e7a42f8697d575'), 'Serial No': '10000', 'GRE Score': '337', 'TOEFL Score': '118', 'University Rating': '4', 'SOP': '4.5', 'LOR': '4.5', 'CGPA': '9.67', 'Research': '1', 'Chance of Admit': '0.92'}\n",
      "{'_id': ObjectId('659a690067e7a42f8697d576'), 'Serial No': '9999', 'GRE Score': '337', 'TOEFL Score': '118', 'University Rating': '4', 'SOP': '4.5', 'LOR': '4.5', 'CGPA': '9.66', 'Research': '1', 'Chance of Admit': '0.92'}\n",
      "{'_id': ObjectId('659a690067e7a42f8697d577'), 'Serial No': '10000', 'GRE Score': '337', 'TOEFL Score': '118', 'University Rating': '4', 'SOP': '4.5', 'LOR': '4.5', 'CGPA': '9.67', 'Research': '1', 'Chance of Admit': '0.92'}\n",
      "{'_id': ObjectId('659a6c5767e7a42f8697d578'), 'Serial No': '9999', 'GRE Score': '337', 'TOEFL Score': '118', 'University Rating': '4', 'SOP': '4.5', 'LOR': '4.5', 'CGPA': '9.66', 'Research': '1', 'Chance of Admit': '0.92'}\n",
      "{'_id': ObjectId('659a6c5767e7a42f8697d579'), 'Serial No': '10000', 'GRE Score': '337', 'TOEFL Score': '118', 'University Rating': '4', 'SOP': '4.5', 'LOR': '4.5', 'CGPA': '9.67', 'Research': '1', 'Chance of Admit': '0.92'}\n",
      "{'_id': ObjectId('659a6c6e67e7a42f8697d57a'), 'Serial No': '9999', 'GRE Score': '337', 'TOEFL Score': '118', 'University Rating': '4', 'SOP': '4.5', 'LOR': '4.5', 'CGPA': '9.66', 'Research': '1', 'Chance of Admit': '0.92'}\n",
      "{'_id': ObjectId('659a6c6e67e7a42f8697d57b'), 'Serial No': '10000', 'GRE Score': '337', 'TOEFL Score': '118', 'University Rating': '4', 'SOP': '4.5', 'LOR': '4.5', 'CGPA': '9.67', 'Research': '1', 'Chance of Admit': '0.92'}\n",
      "{'_id': ObjectId('659ac81d67e7a42f8697d57c'), 'Serial No': '9998', 'GRE Score': '337', 'TOEFL Score': '118', 'University Rating': '4', 'SOP': '4.5', 'LOR': '4.5', 'CGPA': '9.65', 'Research': '1', 'Chance of Admit': '0.92'}\n",
      "{'_id': ObjectId('659ac81d67e7a42f8697d57d'), 'Serial No': '1000', 'GRE Score': '310', 'TOEFL Score': '100', 'University Rating': '2', 'SOP': '4.2', 'LOR': '3.5', 'CGPA': '9.00', 'Research': '0', 'Chance of Admit': '0.70'}\n"
     ]
    }
   ],
   "source": [
    "for i in res:\n",
    "    print(i)"
   ]
  },
  {
   "cell_type": "code",
   "execution_count": 17,
   "metadata": {},
   "outputs": [],
   "source": [
    "#List of the Doc\n",
    "my_rows=[{'Serial No': '9999',\n",
    "          'GRE Score':'337',\n",
    "          'TOEFL Score': '118',\n",
    "          'University Rating':'4',\n",
    "          'SOP':'4.5',\n",
    "          'LOR':'4.5',\n",
    "          'CGPA':'9.66',\n",
    "          'Research':'1',\n",
    "          'Chance of Admit': '0.92'\n",
    "\n",
    "},{'Serial No': '10000',\n",
    "          'GRE Score':'337',\n",
    "          'TOEFL Score': '118',\n",
    "          'University Rating':'4',\n",
    "          'SOP':'4.5',\n",
    "          'LOR':'4.5',\n",
    "          'CGPA':'9.67',\n",
    "          'Research':'1',\n",
    "          'Chance of Admit': '0.92'\n",
    "\n",
    "}]    \n"
   ]
  },
  {
   "cell_type": "code",
   "execution_count": 16,
   "metadata": {},
   "outputs": [
    {
     "data": {
      "text/plain": [
       "[{'Serial No': '9997',\n",
       "  'GRE Score': '337',\n",
       "  'TOEFL Score': '118',\n",
       "  'University Rating': '4',\n",
       "  'SOP': '4.5',\n",
       "  'LOR': '4.5',\n",
       "  'CGPA': '9.65',\n",
       "  'Research': '1',\n",
       "  'Chance of Admit': '0.92'},\n",
       " {'Serial No': '9996',\n",
       "  'GRE Score': '336',\n",
       "  'TOEFL Score': '118',\n",
       "  'University Rating': '4',\n",
       "  'SOP': '4.5',\n",
       "  'LOR': '4.5',\n",
       "  'CGPA': '9.6',\n",
       "  'Research': '0',\n",
       "  'Chance of Admit': '0.92'},\n",
       " {'Serial No': '9995',\n",
       "  'GRE Score': '337',\n",
       "  'TOEFL Score': '118',\n",
       "  'University Rating': '4',\n",
       "  'SOP': '4.5',\n",
       "  'LOR': '4.5',\n",
       "  'CGPA': '9.5',\n",
       "  'Research': '1',\n",
       "  'Chance of Admit': '0.92'},\n",
       " {'Serial No': '9994',\n",
       "  'GRE Score': '334',\n",
       "  'TOEFL Score': '119',\n",
       "  'University Rating': '4',\n",
       "  'SOP': '4.5',\n",
       "  'LOR': '4.5',\n",
       "  'CGPA': '9.4',\n",
       "  'Research': '1',\n",
       "  'Chance of Admit': '0.92'},\n",
       " {'Serial No': '9993',\n",
       "  'GRE Score': '337',\n",
       "  'TOEFL Score': '118',\n",
       "  'University Rating': '4',\n",
       "  'SOP': '4.5',\n",
       "  'LOR': '4.5',\n",
       "  'CGPA': '9.65',\n",
       "  'Research': '1',\n",
       "  'Chance of Admit': '0.92'}]"
      ]
     },
     "execution_count": 16,
     "metadata": {},
     "output_type": "execute_result"
    }
   ],
   "source": [
    "my_rows"
   ]
  },
  {
   "cell_type": "code",
   "execution_count": 18,
   "metadata": {},
   "outputs": [],
   "source": [
    "res =collection.insert_many(my_rows)"
   ]
  },
  {
   "cell_type": "code",
   "execution_count": 19,
   "metadata": {},
   "outputs": [],
   "source": [
    "res =collection.find # Fetch Data From DB"
   ]
  },
  {
   "cell_type": "code",
   "execution_count": 20,
   "metadata": {},
   "outputs": [],
   "source": [
    "result=collection.find({})"
   ]
  },
  {
   "cell_type": "code",
   "execution_count": 21,
   "metadata": {},
   "outputs": [
    {
     "data": {
      "text/plain": [
       "{'_id': ObjectId('659a687d67e7a42f8697d572'),\n",
       " 'Serial No': '9999',\n",
       " 'GRE Score': '337',\n",
       " 'TOEFL Score': '118',\n",
       " 'University Rating': '4',\n",
       " 'SOP': '4.5',\n",
       " 'LOR': '4.5',\n",
       " 'CGPA': '9.66',\n",
       " 'Research': '1',\n",
       " 'Chance of Admit': '0.92'}"
      ]
     },
     "execution_count": 21,
     "metadata": {},
     "output_type": "execute_result"
    }
   ],
   "source": [
    "result[2] # indexing things here "
   ]
  },
  {
   "cell_type": "code",
   "execution_count": 22,
   "metadata": {},
   "outputs": [],
   "source": [
    "result_total = collection.find({}).limit(3)"
   ]
  },
  {
   "cell_type": "code",
   "execution_count": 23,
   "metadata": {},
   "outputs": [
    {
     "name": "stdout",
     "output_type": "stream",
     "text": [
      "{'_id': ObjectId('659a4b1c67e7a42f8697d570'), 'Serial No': '9998', 'GRE Score': '337', 'TOEFL Score': '118', 'University Rating': '4', 'SOP': '4.5', 'LOR': '4.5', 'CGPA': '9.65', 'Research': '1', 'Chance of Admit': '0.92'}\n",
      "{'_id': ObjectId('659a4cc367e7a42f8697d571'), 'Serial No': '9998', 'GRE Score': '337', 'TOEFL Score': '118', 'University Rating': '4', 'SOP': '4.5', 'LOR': '4.5', 'CGPA': '9.65', 'Research': '1', 'Chance of Admit': '0.92'}\n",
      "{'_id': ObjectId('659a687d67e7a42f8697d572'), 'Serial No': '9999', 'GRE Score': '337', 'TOEFL Score': '118', 'University Rating': '4', 'SOP': '4.5', 'LOR': '4.5', 'CGPA': '9.66', 'Research': '1', 'Chance of Admit': '0.92'}\n"
     ]
    }
   ],
   "source": [
    "for i in result_total:\n",
    "    print(i)"
   ]
  },
  {
   "cell_type": "code",
   "execution_count": 24,
   "metadata": {},
   "outputs": [],
   "source": [
    "my_rows=[\n",
    "    {'Serial No': '9998',\n",
    " 'GRE Score': '337',\n",
    " 'TOEFL Score': '118',\n",
    " 'University Rating': '4',\n",
    " 'SOP': '4.5',\n",
    " 'LOR': '4.5',\n",
    " 'CGPA': '9.65',\n",
    " 'Research': '1',\n",
    " 'Chance of Admit': '0.92'},\n",
    "\n",
    " {'Serial No': '1000',\n",
    " 'GRE Score': '310',\n",
    " 'TOEFL Score': '100',\n",
    " 'University Rating': '2',\n",
    " 'SOP': '4.2',\n",
    " 'LOR': '3.5',\n",
    " 'CGPA': '9.00',\n",
    " 'Research': '0',\n",
    " 'Chance of Admit': '0.70'}] "
   ]
  },
  {
   "cell_type": "code",
   "execution_count": 25,
   "metadata": {},
   "outputs": [
    {
     "data": {
      "text/plain": [
       "InsertManyResult([ObjectId('659bb52e57264ad0c773dabd'), ObjectId('659bb52e57264ad0c773dabe')], acknowledged=True)"
      ]
     },
     "execution_count": 25,
     "metadata": {},
     "output_type": "execute_result"
    }
   ],
   "source": [
    "collection.insert_many(my_rows)"
   ]
  },
  {
   "cell_type": "code",
   "execution_count": 26,
   "metadata": {},
   "outputs": [],
   "source": [
    "res=collection.find()"
   ]
  },
  {
   "cell_type": "code",
   "execution_count": 27,
   "metadata": {},
   "outputs": [
    {
     "name": "stdout",
     "output_type": "stream",
     "text": [
      "{'_id': ObjectId('659a4b1c67e7a42f8697d570'), 'Serial No': '9998', 'GRE Score': '337', 'TOEFL Score': '118', 'University Rating': '4', 'SOP': '4.5', 'LOR': '4.5', 'CGPA': '9.65', 'Research': '1', 'Chance of Admit': '0.92'}\n",
      "{'_id': ObjectId('659a4cc367e7a42f8697d571'), 'Serial No': '9998', 'GRE Score': '337', 'TOEFL Score': '118', 'University Rating': '4', 'SOP': '4.5', 'LOR': '4.5', 'CGPA': '9.65', 'Research': '1', 'Chance of Admit': '0.92'}\n",
      "{'_id': ObjectId('659a687d67e7a42f8697d572'), 'Serial No': '9999', 'GRE Score': '337', 'TOEFL Score': '118', 'University Rating': '4', 'SOP': '4.5', 'LOR': '4.5', 'CGPA': '9.66', 'Research': '1', 'Chance of Admit': '0.92'}\n",
      "{'_id': ObjectId('659a687d67e7a42f8697d573'), 'Serial No': '10000', 'GRE Score': '337', 'TOEFL Score': '118', 'University Rating': '4', 'SOP': '4.5', 'LOR': '4.5', 'CGPA': '9.67', 'Research': '1', 'Chance of Admit': '0.92'}\n",
      "{'_id': ObjectId('659a68ca67e7a42f8697d574'), 'Serial No': '9999', 'GRE Score': '337', 'TOEFL Score': '118', 'University Rating': '4', 'SOP': '4.5', 'LOR': '4.5', 'CGPA': '9.66', 'Research': '1', 'Chance of Admit': '0.92'}\n",
      "{'_id': ObjectId('659a68ca67e7a42f8697d575'), 'Serial No': '10000', 'GRE Score': '337', 'TOEFL Score': '118', 'University Rating': '4', 'SOP': '4.5', 'LOR': '4.5', 'CGPA': '9.67', 'Research': '1', 'Chance of Admit': '0.92'}\n",
      "{'_id': ObjectId('659a690067e7a42f8697d576'), 'Serial No': '9999', 'GRE Score': '337', 'TOEFL Score': '118', 'University Rating': '4', 'SOP': '4.5', 'LOR': '4.5', 'CGPA': '9.66', 'Research': '1', 'Chance of Admit': '0.92'}\n",
      "{'_id': ObjectId('659a690067e7a42f8697d577'), 'Serial No': '10000', 'GRE Score': '337', 'TOEFL Score': '118', 'University Rating': '4', 'SOP': '4.5', 'LOR': '4.5', 'CGPA': '9.67', 'Research': '1', 'Chance of Admit': '0.92'}\n",
      "{'_id': ObjectId('659a6c5767e7a42f8697d578'), 'Serial No': '9999', 'GRE Score': '337', 'TOEFL Score': '118', 'University Rating': '4', 'SOP': '4.5', 'LOR': '4.5', 'CGPA': '9.66', 'Research': '1', 'Chance of Admit': '0.92'}\n",
      "{'_id': ObjectId('659a6c5767e7a42f8697d579'), 'Serial No': '10000', 'GRE Score': '337', 'TOEFL Score': '118', 'University Rating': '4', 'SOP': '4.5', 'LOR': '4.5', 'CGPA': '9.67', 'Research': '1', 'Chance of Admit': '0.92'}\n",
      "{'_id': ObjectId('659a6c6e67e7a42f8697d57a'), 'Serial No': '9999', 'GRE Score': '337', 'TOEFL Score': '118', 'University Rating': '4', 'SOP': '4.5', 'LOR': '4.5', 'CGPA': '9.66', 'Research': '1', 'Chance of Admit': '0.92'}\n",
      "{'_id': ObjectId('659a6c6e67e7a42f8697d57b'), 'Serial No': '10000', 'GRE Score': '337', 'TOEFL Score': '118', 'University Rating': '4', 'SOP': '4.5', 'LOR': '4.5', 'CGPA': '9.67', 'Research': '1', 'Chance of Admit': '0.92'}\n",
      "{'_id': ObjectId('659ac81d67e7a42f8697d57c'), 'Serial No': '9998', 'GRE Score': '337', 'TOEFL Score': '118', 'University Rating': '4', 'SOP': '4.5', 'LOR': '4.5', 'CGPA': '9.65', 'Research': '1', 'Chance of Admit': '0.92'}\n",
      "{'_id': ObjectId('659ac81d67e7a42f8697d57d'), 'Serial No': '1000', 'GRE Score': '310', 'TOEFL Score': '100', 'University Rating': '2', 'SOP': '4.2', 'LOR': '3.5', 'CGPA': '9.00', 'Research': '0', 'Chance of Admit': '0.70'}\n",
      "{'_id': ObjectId('659bb51957264ad0c773dabb'), 'Serial No': '9999', 'GRE Score': '337', 'TOEFL Score': '118', 'University Rating': '4', 'SOP': '4.5', 'LOR': '4.5', 'CGPA': '9.66', 'Research': '1', 'Chance of Admit': '0.92'}\n",
      "{'_id': ObjectId('659bb51957264ad0c773dabc'), 'Serial No': '10000', 'GRE Score': '337', 'TOEFL Score': '118', 'University Rating': '4', 'SOP': '4.5', 'LOR': '4.5', 'CGPA': '9.67', 'Research': '1', 'Chance of Admit': '0.92'}\n",
      "{'_id': ObjectId('659bb52e57264ad0c773dabd'), 'Serial No': '9998', 'GRE Score': '337', 'TOEFL Score': '118', 'University Rating': '4', 'SOP': '4.5', 'LOR': '4.5', 'CGPA': '9.65', 'Research': '1', 'Chance of Admit': '0.92'}\n",
      "{'_id': ObjectId('659bb52e57264ad0c773dabe'), 'Serial No': '1000', 'GRE Score': '310', 'TOEFL Score': '100', 'University Rating': '2', 'SOP': '4.2', 'LOR': '3.5', 'CGPA': '9.00', 'Research': '0', 'Chance of Admit': '0.70'}\n"
     ]
    }
   ],
   "source": [
    "for i in res:\n",
    "    print(i)"
   ]
  },
  {
   "cell_type": "code",
   "execution_count": 28,
   "metadata": {},
   "outputs": [
    {
     "ename": "NameError",
     "evalue": "name 'col' is not defined",
     "output_type": "error",
     "traceback": [
      "\u001b[1;31m---------------------------------------------------------------------------\u001b[0m",
      "\u001b[1;31mNameError\u001b[0m                                 Traceback (most recent call last)",
      "Cell \u001b[1;32mIn[28], line 1\u001b[0m\n\u001b[1;32m----> 1\u001b[0m \u001b[43mcol\u001b[49m\u001b[38;5;241m.\u001b[39minserted_id\n\u001b[0;32m      2\u001b[0m col\u001b[38;5;241m.\u001b[39minserted_id\n",
      "\u001b[1;31mNameError\u001b[0m: name 'col' is not defined"
     ]
    }
   ],
   "source": [
    "col.inserted_id\n",
    "col.inserted_id"
   ]
  },
  {
   "cell_type": "code",
   "execution_count": 29,
   "metadata": {},
   "outputs": [],
   "source": [
    "result_total=collection.find({}).limit(2)"
   ]
  },
  {
   "cell_type": "code",
   "execution_count": 30,
   "metadata": {},
   "outputs": [],
   "source": [
    "result=collection.find()\n",
    "record=collection.find()"
   ]
  },
  {
   "cell_type": "code",
   "execution_count": 31,
   "metadata": {},
   "outputs": [],
   "source": [
    "result=collection.find({},{'GRE Score','TOEFL Score'})"
   ]
  },
  {
   "cell_type": "code",
   "execution_count": 32,
   "metadata": {},
   "outputs": [],
   "source": [
    "my_rows = [\n",
    "{'Serial No': '9997',\n",
    " 'GRE Score': '337',\n",
    " 'TOEFL Score': '118',\n",
    " 'University Rating': '4',\n",
    " 'SOP': '4.5',\n",
    " 'LOR': '4.5',\n",
    " 'CGPA': '9.65',\n",
    " 'Research': '1',\n",
    " 'Chance of Admit': '0.92'},\n",
    "  {\n",
    "    'Serial No': '9996',\n",
    " 'GRE Score': '336',\n",
    " 'TOEFL Score': '118',\n",
    " 'University Rating': '4',\n",
    " 'SOP': '4.5',\n",
    " 'LOR': '4.5',\n",
    " 'CGPA': '9.6',\n",
    " 'Research': '0',\n",
    " 'Chance of Admit': '0.92'},\n",
    "  {\n",
    "    'Serial No': '9995',\n",
    " 'GRE Score': '337',\n",
    " 'TOEFL Score': '118',\n",
    " 'University Rating': '4',\n",
    " 'SOP': '4.5',\n",
    " 'LOR': '4.5',\n",
    " 'CGPA': '9.5',\n",
    " 'Research': '1',\n",
    " 'Chance of Admit': '0.92'},\n",
    "  {\n",
    "    'Serial No': '9994',\n",
    " 'GRE Score': '334',\n",
    " 'TOEFL Score': '119',\n",
    " 'University Rating': '4',\n",
    " 'SOP': '4.5',\n",
    " 'LOR': '4.5',\n",
    " 'CGPA': '9.4',\n",
    " 'Research': '1',\n",
    " 'Chance of Admit': '0.92'},\n",
    "  {\n",
    "    'Serial No': '9993',\n",
    " 'GRE Score': '337',\n",
    " 'TOEFL Score': '118',\n",
    " 'University Rating': '4',\n",
    " 'SOP': '4.5',\n",
    " 'LOR': '4.5',\n",
    " 'CGPA': '9.65',\n",
    " 'Research': '1',\n",
    " 'Chance of Admit': '0.92'}\n",
    "\n",
    "]"
   ]
  },
  {
   "cell_type": "code",
   "execution_count": 33,
   "metadata": {},
   "outputs": [],
   "source": [
    "result = collection.find({},{'GRE Score','TOEFL Score'})"
   ]
  },
  {
   "cell_type": "code",
   "execution_count": 34,
   "metadata": {},
   "outputs": [],
   "source": [
    "my_query={\"GRE Score\":{\"$gt\":\"337\"}}"
   ]
  },
  {
   "cell_type": "code",
   "execution_count": 37,
   "metadata": {},
   "outputs": [],
   "source": [
    "result_gt=collection.find(my_query)"
   ]
  },
  {
   "cell_type": "code",
   "execution_count": 38,
   "metadata": {},
   "outputs": [],
   "source": [
    "for i in result_gt:\n",
    "    print(i)"
   ]
  },
  {
   "cell_type": "code",
   "execution_count": 40,
   "metadata": {},
   "outputs": [],
   "source": [
    "my_query1={\"GRE Score\":{\"$lt\":\"337\"}}"
   ]
  },
  {
   "cell_type": "code",
   "execution_count": 41,
   "metadata": {},
   "outputs": [],
   "source": [
    "result_lt=collection.find(my_query1)"
   ]
  },
  {
   "cell_type": "code",
   "execution_count": 43,
   "metadata": {},
   "outputs": [
    {
     "name": "stdout",
     "output_type": "stream",
     "text": [
      "{'_id': ObjectId('659ac81d67e7a42f8697d57d'), 'Serial No': '1000', 'GRE Score': '310', 'TOEFL Score': '100', 'University Rating': '2', 'SOP': '4.2', 'LOR': '3.5', 'CGPA': '9.00', 'Research': '0', 'Chance of Admit': '0.70'}\n",
      "{'_id': ObjectId('659bb52e57264ad0c773dabe'), 'Serial No': '1000', 'GRE Score': '310', 'TOEFL Score': '100', 'University Rating': '2', 'SOP': '4.2', 'LOR': '3.5', 'CGPA': '9.00', 'Research': '0', 'Chance of Admit': '0.70'}\n"
     ]
    }
   ],
   "source": [
    "for i in result_lt:\n",
    "    print(i)"
   ]
  },
  {
   "cell_type": "code",
   "execution_count": 44,
   "metadata": {},
   "outputs": [],
   "source": [
    "result_total=collection.find()"
   ]
  },
  {
   "cell_type": "code",
   "execution_count": 45,
   "metadata": {},
   "outputs": [
    {
     "name": "stdout",
     "output_type": "stream",
     "text": [
      "{'_id': ObjectId('659a4b1c67e7a42f8697d570'), 'Serial No': '9998', 'GRE Score': '337', 'TOEFL Score': '118', 'University Rating': '4', 'SOP': '4.5', 'LOR': '4.5', 'CGPA': '9.65', 'Research': '1', 'Chance of Admit': '0.92'}\n",
      "{'_id': ObjectId('659a4cc367e7a42f8697d571'), 'Serial No': '9998', 'GRE Score': '337', 'TOEFL Score': '118', 'University Rating': '4', 'SOP': '4.5', 'LOR': '4.5', 'CGPA': '9.65', 'Research': '1', 'Chance of Admit': '0.92'}\n",
      "{'_id': ObjectId('659a687d67e7a42f8697d572'), 'Serial No': '9999', 'GRE Score': '337', 'TOEFL Score': '118', 'University Rating': '4', 'SOP': '4.5', 'LOR': '4.5', 'CGPA': '9.66', 'Research': '1', 'Chance of Admit': '0.92'}\n",
      "{'_id': ObjectId('659a687d67e7a42f8697d573'), 'Serial No': '10000', 'GRE Score': '337', 'TOEFL Score': '118', 'University Rating': '4', 'SOP': '4.5', 'LOR': '4.5', 'CGPA': '9.67', 'Research': '1', 'Chance of Admit': '0.92'}\n",
      "{'_id': ObjectId('659a68ca67e7a42f8697d574'), 'Serial No': '9999', 'GRE Score': '337', 'TOEFL Score': '118', 'University Rating': '4', 'SOP': '4.5', 'LOR': '4.5', 'CGPA': '9.66', 'Research': '1', 'Chance of Admit': '0.92'}\n",
      "{'_id': ObjectId('659a68ca67e7a42f8697d575'), 'Serial No': '10000', 'GRE Score': '337', 'TOEFL Score': '118', 'University Rating': '4', 'SOP': '4.5', 'LOR': '4.5', 'CGPA': '9.67', 'Research': '1', 'Chance of Admit': '0.92'}\n",
      "{'_id': ObjectId('659a690067e7a42f8697d576'), 'Serial No': '9999', 'GRE Score': '337', 'TOEFL Score': '118', 'University Rating': '4', 'SOP': '4.5', 'LOR': '4.5', 'CGPA': '9.66', 'Research': '1', 'Chance of Admit': '0.92'}\n",
      "{'_id': ObjectId('659a690067e7a42f8697d577'), 'Serial No': '10000', 'GRE Score': '337', 'TOEFL Score': '118', 'University Rating': '4', 'SOP': '4.5', 'LOR': '4.5', 'CGPA': '9.67', 'Research': '1', 'Chance of Admit': '0.92'}\n",
      "{'_id': ObjectId('659a6c5767e7a42f8697d578'), 'Serial No': '9999', 'GRE Score': '337', 'TOEFL Score': '118', 'University Rating': '4', 'SOP': '4.5', 'LOR': '4.5', 'CGPA': '9.66', 'Research': '1', 'Chance of Admit': '0.92'}\n",
      "{'_id': ObjectId('659a6c5767e7a42f8697d579'), 'Serial No': '10000', 'GRE Score': '337', 'TOEFL Score': '118', 'University Rating': '4', 'SOP': '4.5', 'LOR': '4.5', 'CGPA': '9.67', 'Research': '1', 'Chance of Admit': '0.92'}\n",
      "{'_id': ObjectId('659a6c6e67e7a42f8697d57a'), 'Serial No': '9999', 'GRE Score': '337', 'TOEFL Score': '118', 'University Rating': '4', 'SOP': '4.5', 'LOR': '4.5', 'CGPA': '9.66', 'Research': '1', 'Chance of Admit': '0.92'}\n",
      "{'_id': ObjectId('659a6c6e67e7a42f8697d57b'), 'Serial No': '10000', 'GRE Score': '337', 'TOEFL Score': '118', 'University Rating': '4', 'SOP': '4.5', 'LOR': '4.5', 'CGPA': '9.67', 'Research': '1', 'Chance of Admit': '0.92'}\n",
      "{'_id': ObjectId('659ac81d67e7a42f8697d57c'), 'Serial No': '9998', 'GRE Score': '337', 'TOEFL Score': '118', 'University Rating': '4', 'SOP': '4.5', 'LOR': '4.5', 'CGPA': '9.65', 'Research': '1', 'Chance of Admit': '0.92'}\n",
      "{'_id': ObjectId('659ac81d67e7a42f8697d57d'), 'Serial No': '1000', 'GRE Score': '310', 'TOEFL Score': '100', 'University Rating': '2', 'SOP': '4.2', 'LOR': '3.5', 'CGPA': '9.00', 'Research': '0', 'Chance of Admit': '0.70'}\n",
      "{'_id': ObjectId('659bb51957264ad0c773dabb'), 'Serial No': '9999', 'GRE Score': '337', 'TOEFL Score': '118', 'University Rating': '4', 'SOP': '4.5', 'LOR': '4.5', 'CGPA': '9.66', 'Research': '1', 'Chance of Admit': '0.92'}\n",
      "{'_id': ObjectId('659bb51957264ad0c773dabc'), 'Serial No': '10000', 'GRE Score': '337', 'TOEFL Score': '118', 'University Rating': '4', 'SOP': '4.5', 'LOR': '4.5', 'CGPA': '9.67', 'Research': '1', 'Chance of Admit': '0.92'}\n",
      "{'_id': ObjectId('659bb52e57264ad0c773dabd'), 'Serial No': '9998', 'GRE Score': '337', 'TOEFL Score': '118', 'University Rating': '4', 'SOP': '4.5', 'LOR': '4.5', 'CGPA': '9.65', 'Research': '1', 'Chance of Admit': '0.92'}\n",
      "{'_id': ObjectId('659bb52e57264ad0c773dabe'), 'Serial No': '1000', 'GRE Score': '310', 'TOEFL Score': '100', 'University Rating': '2', 'SOP': '4.2', 'LOR': '3.5', 'CGPA': '9.00', 'Research': '0', 'Chance of Admit': '0.70'}\n"
     ]
    }
   ],
   "source": [
    "for i in result_total:\n",
    "    print(i)"
   ]
  },
  {
   "cell_type": "code",
   "execution_count": 46,
   "metadata": {},
   "outputs": [],
   "source": [
    "result_sort =collection.find().sort('GRE Score')"
   ]
  },
  {
   "cell_type": "code",
   "execution_count": null,
   "metadata": {},
   "outputs": [],
   "source": [
    "result_sort_desc =collection.find().sort('GRE Score',-1) # Desc order print value."
   ]
  },
  {
   "cell_type": "code",
   "execution_count": 47,
   "metadata": {},
   "outputs": [
    {
     "name": "stdout",
     "output_type": "stream",
     "text": [
      "{'_id': ObjectId('659ac81d67e7a42f8697d57d'), 'Serial No': '1000', 'GRE Score': '310', 'TOEFL Score': '100', 'University Rating': '2', 'SOP': '4.2', 'LOR': '3.5', 'CGPA': '9.00', 'Research': '0', 'Chance of Admit': '0.70'}\n",
      "{'_id': ObjectId('659bb52e57264ad0c773dabe'), 'Serial No': '1000', 'GRE Score': '310', 'TOEFL Score': '100', 'University Rating': '2', 'SOP': '4.2', 'LOR': '3.5', 'CGPA': '9.00', 'Research': '0', 'Chance of Admit': '0.70'}\n",
      "{'_id': ObjectId('659a4b1c67e7a42f8697d570'), 'Serial No': '9998', 'GRE Score': '337', 'TOEFL Score': '118', 'University Rating': '4', 'SOP': '4.5', 'LOR': '4.5', 'CGPA': '9.65', 'Research': '1', 'Chance of Admit': '0.92'}\n",
      "{'_id': ObjectId('659a4cc367e7a42f8697d571'), 'Serial No': '9998', 'GRE Score': '337', 'TOEFL Score': '118', 'University Rating': '4', 'SOP': '4.5', 'LOR': '4.5', 'CGPA': '9.65', 'Research': '1', 'Chance of Admit': '0.92'}\n",
      "{'_id': ObjectId('659a687d67e7a42f8697d572'), 'Serial No': '9999', 'GRE Score': '337', 'TOEFL Score': '118', 'University Rating': '4', 'SOP': '4.5', 'LOR': '4.5', 'CGPA': '9.66', 'Research': '1', 'Chance of Admit': '0.92'}\n",
      "{'_id': ObjectId('659a687d67e7a42f8697d573'), 'Serial No': '10000', 'GRE Score': '337', 'TOEFL Score': '118', 'University Rating': '4', 'SOP': '4.5', 'LOR': '4.5', 'CGPA': '9.67', 'Research': '1', 'Chance of Admit': '0.92'}\n",
      "{'_id': ObjectId('659a68ca67e7a42f8697d574'), 'Serial No': '9999', 'GRE Score': '337', 'TOEFL Score': '118', 'University Rating': '4', 'SOP': '4.5', 'LOR': '4.5', 'CGPA': '9.66', 'Research': '1', 'Chance of Admit': '0.92'}\n",
      "{'_id': ObjectId('659a68ca67e7a42f8697d575'), 'Serial No': '10000', 'GRE Score': '337', 'TOEFL Score': '118', 'University Rating': '4', 'SOP': '4.5', 'LOR': '4.5', 'CGPA': '9.67', 'Research': '1', 'Chance of Admit': '0.92'}\n",
      "{'_id': ObjectId('659a690067e7a42f8697d576'), 'Serial No': '9999', 'GRE Score': '337', 'TOEFL Score': '118', 'University Rating': '4', 'SOP': '4.5', 'LOR': '4.5', 'CGPA': '9.66', 'Research': '1', 'Chance of Admit': '0.92'}\n",
      "{'_id': ObjectId('659a690067e7a42f8697d577'), 'Serial No': '10000', 'GRE Score': '337', 'TOEFL Score': '118', 'University Rating': '4', 'SOP': '4.5', 'LOR': '4.5', 'CGPA': '9.67', 'Research': '1', 'Chance of Admit': '0.92'}\n",
      "{'_id': ObjectId('659a6c5767e7a42f8697d578'), 'Serial No': '9999', 'GRE Score': '337', 'TOEFL Score': '118', 'University Rating': '4', 'SOP': '4.5', 'LOR': '4.5', 'CGPA': '9.66', 'Research': '1', 'Chance of Admit': '0.92'}\n",
      "{'_id': ObjectId('659a6c5767e7a42f8697d579'), 'Serial No': '10000', 'GRE Score': '337', 'TOEFL Score': '118', 'University Rating': '4', 'SOP': '4.5', 'LOR': '4.5', 'CGPA': '9.67', 'Research': '1', 'Chance of Admit': '0.92'}\n",
      "{'_id': ObjectId('659a6c6e67e7a42f8697d57a'), 'Serial No': '9999', 'GRE Score': '337', 'TOEFL Score': '118', 'University Rating': '4', 'SOP': '4.5', 'LOR': '4.5', 'CGPA': '9.66', 'Research': '1', 'Chance of Admit': '0.92'}\n",
      "{'_id': ObjectId('659a6c6e67e7a42f8697d57b'), 'Serial No': '10000', 'GRE Score': '337', 'TOEFL Score': '118', 'University Rating': '4', 'SOP': '4.5', 'LOR': '4.5', 'CGPA': '9.67', 'Research': '1', 'Chance of Admit': '0.92'}\n",
      "{'_id': ObjectId('659ac81d67e7a42f8697d57c'), 'Serial No': '9998', 'GRE Score': '337', 'TOEFL Score': '118', 'University Rating': '4', 'SOP': '4.5', 'LOR': '4.5', 'CGPA': '9.65', 'Research': '1', 'Chance of Admit': '0.92'}\n",
      "{'_id': ObjectId('659bb51957264ad0c773dabb'), 'Serial No': '9999', 'GRE Score': '337', 'TOEFL Score': '118', 'University Rating': '4', 'SOP': '4.5', 'LOR': '4.5', 'CGPA': '9.66', 'Research': '1', 'Chance of Admit': '0.92'}\n",
      "{'_id': ObjectId('659bb51957264ad0c773dabc'), 'Serial No': '10000', 'GRE Score': '337', 'TOEFL Score': '118', 'University Rating': '4', 'SOP': '4.5', 'LOR': '4.5', 'CGPA': '9.67', 'Research': '1', 'Chance of Admit': '0.92'}\n",
      "{'_id': ObjectId('659bb52e57264ad0c773dabd'), 'Serial No': '9998', 'GRE Score': '337', 'TOEFL Score': '118', 'University Rating': '4', 'SOP': '4.5', 'LOR': '4.5', 'CGPA': '9.65', 'Research': '1', 'Chance of Admit': '0.92'}\n"
     ]
    }
   ],
   "source": [
    "for i in result_sort:\n",
    "    print(i)"
   ]
  },
  {
   "cell_type": "code",
   "execution_count": null,
   "metadata": {},
   "outputs": [],
   "source": [
    "result_sort_desc =collection.find().sort('GRE Score',-1) # Desc order print value."
   ]
  },
  {
   "cell_type": "code",
   "execution_count": null,
   "metadata": {},
   "outputs": [],
   "source": [
    "for x in result_sort_desc:\n",
    "    print(x)"
   ]
  }
 ],
 "metadata": {
  "kernelspec": {
   "display_name": "Python 3",
   "language": "python",
   "name": "python3"
  },
  "language_info": {
   "codemirror_mode": {
    "name": "ipython",
    "version": 3
   },
   "file_extension": ".py",
   "mimetype": "text/x-python",
   "name": "python",
   "nbconvert_exporter": "python",
   "pygments_lexer": "ipython3",
   "version": "3.12.0"
  }
 },
 "nbformat": 4,
 "nbformat_minor": 2
}
